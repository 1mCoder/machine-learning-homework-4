{
 "cells": [
  {
   "cell_type": "markdown",
   "metadata": {},
   "source": [
    "<h1>Baseline Model</h1>\n",
    "<p>Logistic Regression was chosen as the baseline model due to its simplicity, interpretability, and efficiency in handling binary classification tasks.<br> Its linear nature makes it a suitable starting point to establish a baseline performance, allowing for a clear understanding of the dataset's separability.</p>"
   ]
  },
  {
   "cell_type": "markdown",
   "metadata": {},
   "source": [
    "<h3>Imports</h3>"
   ]
  },
  {
   "cell_type": "code",
   "execution_count": 1,
   "metadata": {},
   "outputs": [],
   "source": [
    "import pandas as pd\n",
    "\n",
    "from sklearn.model_selection import train_test_split\n",
    "from sklearn.feature_extraction.text import TfidfVectorizer\n",
    "from sklearn.linear_model import LogisticRegression\n",
    "from sklearn.metrics import accuracy_score, f1_score\n",
    "import joblib"
   ]
  },
  {
   "cell_type": "markdown",
   "metadata": {},
   "source": [
    "<h3>Loading train dataset</h3>"
   ]
  },
  {
   "cell_type": "code",
   "execution_count": 2,
   "metadata": {},
   "outputs": [],
   "source": [
    "# Load train data\n",
    "train_dataset = pd.read_csv('kmaml223/train.csv')#.sample(n=1000)\n",
    "\n",
    "# Features to consider for classification\n",
    "feature_columns = ['toxic', 'severe_toxic', 'obscene', 'threat', 'insult', 'identity_hate'] "
   ]
  },
  {
   "cell_type": "code",
   "execution_count": 3,
   "metadata": {},
   "outputs": [
    {
     "data": {
      "text/html": [
       "<div>\n",
       "<style scoped>\n",
       "    .dataframe tbody tr th:only-of-type {\n",
       "        vertical-align: middle;\n",
       "    }\n",
       "\n",
       "    .dataframe tbody tr th {\n",
       "        vertical-align: top;\n",
       "    }\n",
       "\n",
       "    .dataframe thead th {\n",
       "        text-align: right;\n",
       "    }\n",
       "</style>\n",
       "<table border=\"1\" class=\"dataframe\">\n",
       "  <thead>\n",
       "    <tr style=\"text-align: right;\">\n",
       "      <th></th>\n",
       "      <th>id</th>\n",
       "      <th>comment_text</th>\n",
       "      <th>toxic</th>\n",
       "      <th>severe_toxic</th>\n",
       "      <th>obscene</th>\n",
       "      <th>threat</th>\n",
       "      <th>insult</th>\n",
       "      <th>identity_hate</th>\n",
       "      <th>comment_text_cleaned</th>\n",
       "    </tr>\n",
       "  </thead>\n",
       "  <tbody>\n",
       "    <tr>\n",
       "      <th>0</th>\n",
       "      <td>0000997932d777bf</td>\n",
       "      <td>Explanation\\nWhy the edits made under my usern...</td>\n",
       "      <td>0</td>\n",
       "      <td>0</td>\n",
       "      <td>0</td>\n",
       "      <td>0</td>\n",
       "      <td>0</td>\n",
       "      <td>0</td>\n",
       "      <td>explanation edits made username hardcore metal...</td>\n",
       "    </tr>\n",
       "    <tr>\n",
       "      <th>1</th>\n",
       "      <td>000103f0d9cfb60f</td>\n",
       "      <td>D'aww! He matches this background colour I'm s...</td>\n",
       "      <td>0</td>\n",
       "      <td>0</td>\n",
       "      <td>0</td>\n",
       "      <td>0</td>\n",
       "      <td>0</td>\n",
       "      <td>0</td>\n",
       "      <td>d'aww match background colour 'm seemingly stu...</td>\n",
       "    </tr>\n",
       "    <tr>\n",
       "      <th>2</th>\n",
       "      <td>000113f07ec002fd</td>\n",
       "      <td>Hey man, I'm really not trying to edit war. It...</td>\n",
       "      <td>0</td>\n",
       "      <td>0</td>\n",
       "      <td>0</td>\n",
       "      <td>0</td>\n",
       "      <td>0</td>\n",
       "      <td>0</td>\n",
       "      <td>hey man 'm really trying edit war 's guy const...</td>\n",
       "    </tr>\n",
       "    <tr>\n",
       "      <th>3</th>\n",
       "      <td>0001b41b1c6bb37e</td>\n",
       "      <td>\"\\nMore\\nI can't make any real suggestions on ...</td>\n",
       "      <td>0</td>\n",
       "      <td>0</td>\n",
       "      <td>0</td>\n",
       "      <td>0</td>\n",
       "      <td>0</td>\n",
       "      <td>0</td>\n",
       "      <td>ca n't make real suggestion improvement wonder...</td>\n",
       "    </tr>\n",
       "    <tr>\n",
       "      <th>4</th>\n",
       "      <td>0001d958c54c6e35</td>\n",
       "      <td>You, sir, are my hero. Any chance you remember...</td>\n",
       "      <td>0</td>\n",
       "      <td>0</td>\n",
       "      <td>0</td>\n",
       "      <td>0</td>\n",
       "      <td>0</td>\n",
       "      <td>0</td>\n",
       "      <td>sir hero chance remember page 's</td>\n",
       "    </tr>\n",
       "  </tbody>\n",
       "</table>\n",
       "</div>"
      ],
      "text/plain": [
       "                 id                                       comment_text  toxic  \\\n",
       "0  0000997932d777bf  Explanation\\nWhy the edits made under my usern...      0   \n",
       "1  000103f0d9cfb60f  D'aww! He matches this background colour I'm s...      0   \n",
       "2  000113f07ec002fd  Hey man, I'm really not trying to edit war. It...      0   \n",
       "3  0001b41b1c6bb37e  \"\\nMore\\nI can't make any real suggestions on ...      0   \n",
       "4  0001d958c54c6e35  You, sir, are my hero. Any chance you remember...      0   \n",
       "\n",
       "   severe_toxic  obscene  threat  insult  identity_hate  \\\n",
       "0             0        0       0       0              0   \n",
       "1             0        0       0       0              0   \n",
       "2             0        0       0       0              0   \n",
       "3             0        0       0       0              0   \n",
       "4             0        0       0       0              0   \n",
       "\n",
       "                                comment_text_cleaned  \n",
       "0  explanation edits made username hardcore metal...  \n",
       "1  d'aww match background colour 'm seemingly stu...  \n",
       "2  hey man 'm really trying edit war 's guy const...  \n",
       "3  ca n't make real suggestion improvement wonder...  \n",
       "4                   sir hero chance remember page 's  "
      ]
     },
     "execution_count": 3,
     "metadata": {},
     "output_type": "execute_result"
    }
   ],
   "source": [
    "train_dataset.head()"
   ]
  },
  {
   "cell_type": "markdown",
   "metadata": {},
   "source": [
    "<h3>Splitting train dataset</h3>"
   ]
  },
  {
   "cell_type": "code",
   "execution_count": 4,
   "metadata": {},
   "outputs": [],
   "source": [
    "# Splitting train_data into training and testing subsets\n",
    "train_subset, test_subset = train_test_split(train_dataset, test_size=0.2, random_state=42)\n",
    "\n",
    "train_subset['comment_text_cleaned'].fillna('', inplace=True)\n",
    "test_subset['comment_text_cleaned'].fillna('', inplace=True)\n",
    "\n",
    "X_train = train_subset['comment_text_cleaned']\n",
    "X_test = test_subset['comment_text_cleaned']"
   ]
  },
  {
   "cell_type": "markdown",
   "metadata": {},
   "source": [
    "<h3>Creating a Logistic Regression Model for every feature</h3>"
   ]
  },
  {
   "cell_type": "markdown",
   "metadata": {},
   "source": [
    "<p>Let's store them as well!</p>"
   ]
  },
  {
   "cell_type": "code",
   "execution_count": 5,
   "metadata": {},
   "outputs": [
    {
     "name": "stdout",
     "output_type": "stream",
     "text": [
      "TfidfVectorizer saved as tfidf_vectorizer.pkl\n",
      "===== Predicting for 'toxic' =====\n",
      "Accuracy for 'toxic': 0.9568854770484099\n",
      "F1 Score for 'toxic': 0.7291338582677166\n",
      "Model for 'toxic' saved as models/baseline/toxic_model.pkl\n",
      "\n",
      "===== Predicting for 'severe_toxic' =====\n",
      "Accuracy for 'severe_toxic': 0.9906626977910074\n",
      "F1 Score for 'severe_toxic': 0.3739495798319328\n",
      "Model for 'severe_toxic' saved as models/baseline/severe_toxic_model.pkl\n",
      "\n",
      "===== Predicting for 'obscene' =====\n",
      "Accuracy for 'obscene': 0.9763747454175152\n",
      "F1 Score for 'obscene': 0.7376478775226166\n",
      "Model for 'obscene' saved as models/baseline/obscene_model.pkl\n",
      "\n",
      "===== Predicting for 'threat' =====\n",
      "Accuracy for 'threat': 0.9977126742910857\n",
      "F1 Score for 'threat': 0.21505376344086022\n",
      "Model for 'threat' saved as models/baseline/threat_model.pkl\n",
      "\n",
      "===== Predicting for 'insult' =====\n",
      "Accuracy for 'insult': 0.9692307692307692\n",
      "F1 Score for 'insult': 0.6254767353165522\n",
      "Model for 'insult' saved as models/baseline/insult_model.pkl\n",
      "\n",
      "===== Predicting for 'identity_hate' =====\n",
      "Accuracy for 'identity_hate': 0.9916340278865737\n",
      "F1 Score for 'identity_hate': 0.2562674094707521\n",
      "Model for 'identity_hate' saved as models/baseline/identity_hate_model.pkl\n",
      "\n"
     ]
    }
   ],
   "source": [
    "models = {}\n",
    "\n",
    "# Preprocess text data, initialize and fit TfidfVectorizer\n",
    "tfidf_vectorizer = TfidfVectorizer()\n",
    "X_train_tfidf = tfidf_vectorizer.fit_transform(X_train)\n",
    "X_test_tfidf = tfidf_vectorizer.transform(X_test)\n",
    "\n",
    "# Save the TfidfVectorizer\n",
    "tfidf_filename = \"models/baseline/tfidf_vectorizer.pkl\"\n",
    "joblib.dump(tfidf_vectorizer, tfidf_filename)\n",
    "print(\"TfidfVectorizer saved as tfidf_vectorizer.pkl\")\n",
    "\n",
    "for feature in feature_columns:\n",
    "    print(f\"===== Predicting for '{feature}' =====\")\n",
    "    \n",
    "    y_train = train_subset[feature]  # Select the target feature    \n",
    "    y_test = test_subset[feature]  # Select the target feature\n",
    "    \n",
    "    # Initialize and train Logistic Regression model\n",
    "    logreg = LogisticRegression(max_iter=1000)\n",
    "    logreg.fit(X_train_tfidf, y_train)\n",
    "\n",
    "    # Predict toxicity on test data\n",
    "    predictions = logreg.predict(X_test_tfidf)\n",
    "\n",
    "    # Evaluate the model\n",
    "    accuracy = accuracy_score(y_test, predictions)\n",
    "    f1 = f1_score(y_test, predictions)\n",
    "    \n",
    "    print(f\"Accuracy for '{feature}': {accuracy}\")\n",
    "    print(f\"F1 Score for '{feature}': {f1}\")\n",
    "\n",
    "    # Store the trained model in the dictionary\n",
    "    models[feature] = logreg\n",
    "\n",
    "    # Save the trained model\n",
    "    model_filename = f\"models/baseline/{feature}_model.pkl\"\n",
    "    joblib.dump(logreg, model_filename)\n",
    "    print(f\"Model for '{feature}' saved as {model_filename}\")\n",
    "    print()"
   ]
  },
  {
   "cell_type": "markdown",
   "metadata": {},
   "source": [
    "<p>Yeey!</p>"
   ]
  }
 ],
 "metadata": {
  "kernelspec": {
   "display_name": "Python 3",
   "language": "python",
   "name": "python3"
  },
  "language_info": {
   "codemirror_mode": {
    "name": "ipython",
    "version": 3
   },
   "file_extension": ".py",
   "mimetype": "text/x-python",
   "name": "python",
   "nbconvert_exporter": "python",
   "pygments_lexer": "ipython3",
   "version": "3.9.6"
  }
 },
 "nbformat": 4,
 "nbformat_minor": 2
}
