{
 "cells": [
  {
   "cell_type": "markdown",
   "metadata": {},
   "source": [
    "<h1>Text Cleanup</h1>\n",
    "<h4>Methodology:</h4>\n",
    "<ul>\n",
    "  <li><strong>NLTK Resources Download:</strong> The code initiates the download of essential NLTK resources—'punkt', 'stopwords', and 'wordnet'—necessary for text processing tasks.</li>\n",
    "  <li><strong>Text Cleaning Function:</strong> The <code>clean_text</code> function embodies a series of operations to preprocess textual data effectively:\n",
    "    <ul>\n",
    "      <li><strong>Special Character Removal:</strong> Removes special characters and punctuation, excluding specific characters like '@', '#', and '' (apostrophe).</li>\n",
    "      <li><strong>Text Normalization:</strong> Converts the text to lowercase for uniformity.</li>\n",
    "      <li><strong>Tokenization:</strong> Segments the text into individual tokens (words).</li>\n",
    "      <li><strong>Stopword Removal:</strong> Eliminates common English stopwords to filter out noise from the text.</li>\n",
    "      <li><strong>Lemmatization:</strong> Applies lemmatization to reduce words to their base or root form, ensuring consistency.</li>\n",
    "      <li><strong>Whitespace Handling:</strong> Cleans and normalizes whitespaces for consistency in the cleaned text.</li>\n",
    "    </ul>\n",
    "  </li>\n",
    "</ul>"
   ]
  },
  {
   "cell_type": "markdown",
   "metadata": {},
   "source": [
    "<h3>Imports</h3>"
   ]
  },
  {
   "cell_type": "code",
   "execution_count": 1,
   "metadata": {},
   "outputs": [],
   "source": [
    "import pandas as pd\n",
    "\n",
    "import re\n",
    "import nltk\n",
    "from nltk.corpus import stopwords\n",
    "from nltk.tokenize import word_tokenize\n",
    "from nltk.stem import WordNetLemmatizer"
   ]
  },
  {
   "cell_type": "markdown",
   "metadata": {},
   "source": [
    "<h3>Text Cleaning Process Overview</h3>\n",
    "<p>The provided code snippet showcases a comprehensive text cleaning process utilizing the NLTK library.</p>"
   ]
  },
  {
   "cell_type": "code",
   "execution_count": 2,
   "metadata": {},
   "outputs": [
    {
     "name": "stderr",
     "output_type": "stream",
     "text": [
      "[nltk_data] Downloading package punkt to /Users/andrew/nltk_data...\n",
      "[nltk_data]   Package punkt is already up-to-date!\n",
      "[nltk_data] Downloading package stopwords to\n",
      "[nltk_data]     /Users/andrew/nltk_data...\n",
      "[nltk_data]   Package stopwords is already up-to-date!\n",
      "[nltk_data] Downloading package wordnet to /Users/andrew/nltk_data...\n",
      "[nltk_data]   Package wordnet is already up-to-date!\n"
     ]
    }
   ],
   "source": [
    "# Download NLTK resources if you haven't done so already\n",
    "nltk.download('punkt')\n",
    "nltk.download('stopwords')\n",
    "nltk.download('wordnet')\n",
    "\n",
    "# Function to perform text cleaning\n",
    "def clean_text(text):\n",
    "    # Remove special characters and punctuation except @, #, and '\n",
    "    cleaned_text = re.sub(r\"[^\\w\\s#@']\", \"\", text)\n",
    "\n",
    "    # Normalize text (convert to lowercase)\n",
    "    cleaned_text = cleaned_text.lower()\n",
    "\n",
    "    # Tokenize the text\n",
    "    tokens = word_tokenize(cleaned_text)\n",
    "\n",
    "    # Remove stopwords\n",
    "    stop_words = set(stopwords.words('english'))\n",
    "    filtered_tokens = [word for word in tokens if word not in stop_words]\n",
    "\n",
    "    # Initialize lemmatization\n",
    "    lemmatizer = WordNetLemmatizer()\n",
    "\n",
    "    # Apply stemming and lemmatization\n",
    "    lemmatized_tokens = [lemmatizer.lemmatize(word) for word in filtered_tokens]\n",
    "\n",
    "    # Join tokens back into text\n",
    "    cleaned_text = ' '.join(lemmatized_tokens)\n",
    "\n",
    "    # Handle whitespaces\n",
    "    cleaned_text = re.sub(r'\\s+', ' ', cleaned_text).strip()\n",
    "\n",
    "    return cleaned_text"
   ]
  },
  {
   "cell_type": "markdown",
   "metadata": {},
   "source": [
    "<h3>Applying Cleanup to the Training Dataset</h3>"
   ]
  },
  {
   "cell_type": "code",
   "execution_count": 3,
   "metadata": {},
   "outputs": [],
   "source": [
    "# Load train data (assuming you have train.csv for training)\n",
    "train_dataset = pd.read_csv('kmaml223/train.csv')\n",
    "\n",
    "# Create a new column 'comment_text_cleaned' and assign the preprocessed text data\n",
    "train_dataset['comment_text_cleaned'] = train_dataset['comment_text'].apply(clean_text)\n",
    "\n",
    "# Save the modified DataFrame back to a CSV file\n",
    "train_dataset.to_csv('kmaml223/train.csv', index=False)"
   ]
  },
  {
   "cell_type": "markdown",
   "metadata": {},
   "source": [
    "<h3>Applying Cleanup to the Testing Dataset</h3>"
   ]
  },
  {
   "cell_type": "code",
   "execution_count": 4,
   "metadata": {},
   "outputs": [],
   "source": [
    "# Load train data (assuming you have train.csv for training)\n",
    "test_dataset = pd.read_csv('kmaml223/test.csv')\n",
    "\n",
    "# Create a new column 'comment_text_cleaned' and assign the preprocessed text data\n",
    "test_dataset['comment_text_cleaned'] = test_dataset['comment_text'].apply(clean_text)\n",
    "\n",
    "# Save the modified DataFrame back to a CSV file\n",
    "test_dataset.to_csv('kmaml223/test.csv', index=False)"
   ]
  }
 ],
 "metadata": {
  "kernelspec": {
   "display_name": "Python 3",
   "language": "python",
   "name": "python3"
  },
  "language_info": {
   "codemirror_mode": {
    "name": "ipython",
    "version": 3
   },
   "file_extension": ".py",
   "mimetype": "text/x-python",
   "name": "python",
   "nbconvert_exporter": "python",
   "pygments_lexer": "ipython3",
   "version": "3.9.6"
  }
 },
 "nbformat": 4,
 "nbformat_minor": 2
}
